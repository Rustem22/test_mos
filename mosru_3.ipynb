{
 "cells": [
  {
   "cell_type": "code",
   "execution_count": 3,
   "id": "ca9d245c",
   "metadata": {},
   "outputs": [
    {
     "data": {
      "text/html": [
       "<div>\n",
       "<style scoped>\n",
       "    .dataframe tbody tr th:only-of-type {\n",
       "        vertical-align: middle;\n",
       "    }\n",
       "\n",
       "    .dataframe tbody tr th {\n",
       "        vertical-align: top;\n",
       "    }\n",
       "\n",
       "    .dataframe thead th {\n",
       "        text-align: right;\n",
       "    }\n",
       "</style>\n",
       "<table border=\"1\" class=\"dataframe\">\n",
       "  <thead>\n",
       "    <tr style=\"text-align: right;\">\n",
       "      <th></th>\n",
       "      <th>month_dt</th>\n",
       "      <th>cnt</th>\n",
       "      <th>lag_cnt</th>\n",
       "      <th>diff</th>\n",
       "    </tr>\n",
       "  </thead>\n",
       "  <tbody>\n",
       "    <tr>\n",
       "      <th>0</th>\n",
       "      <td>1</td>\n",
       "      <td>86</td>\n",
       "      <td>NaN</td>\n",
       "      <td>0.00</td>\n",
       "    </tr>\n",
       "    <tr>\n",
       "      <th>1</th>\n",
       "      <td>2</td>\n",
       "      <td>101</td>\n",
       "      <td>86.0</td>\n",
       "      <td>17.44</td>\n",
       "    </tr>\n",
       "    <tr>\n",
       "      <th>2</th>\n",
       "      <td>3</td>\n",
       "      <td>99</td>\n",
       "      <td>101.0</td>\n",
       "      <td>-1.98</td>\n",
       "    </tr>\n",
       "  </tbody>\n",
       "</table>\n",
       "</div>"
      ],
      "text/plain": [
       "   month_dt  cnt  lag_cnt   diff\n",
       "0         1   86      NaN   0.00\n",
       "1         2  101     86.0  17.44\n",
       "2         3   99    101.0  -1.98"
      ]
     },
     "execution_count": 3,
     "metadata": {},
     "output_type": "execute_result"
    }
   ],
   "source": [
    "Задача 3.\n",
    "\n",
    "import pandas as pd\n",
    "\n",
    "df = pd.read_excel('/Users/rustem/Downloads/OTP_session_id.xlsx')\n",
    "\n",
    "# Извлечем месяц из колонки 'datetime'\n",
    "df['month_dt'] = df['datetime'].dt.month\n",
    "\n",
    "# Отфильтруем данные, где 'category' равен 'otp-login'\n",
    "df_filtered = df[df['category'] == 'otp-login']\n",
    "\n",
    "# Сгруппируем по 'month_dt' и посчитаем уникальные 'client_id'\n",
    "pre_data = df_filtered.groupby('month_dt')['client_id'].nunique().reset_index(name='cnt')\n",
    "\n",
    "# Расчитатем значения с задержкой\n",
    "pre_data['lag_cnt'] = pre_data['cnt'].shift(1)\n",
    "\n",
    "# Расчитаем метрику Month-of-Month\n",
    "pre_data['diff'] = (pre_data['cnt'] - pre_data['lag_cnt']) / pre_data['lag_cnt'] * 100\n",
    "pre_data['diff'] = pre_data['diff'].fillna(0)  # заполнить NaN значениями 0\n",
    "pre_data['diff'] = pre_data['diff'].round(2)  # округлить до 2 знаков после запятой\n",
    "\n",
    "# Выведем результат\n",
    "result = pre_data[['month_dt', 'cnt', 'lag_cnt', 'diff']]\n",
    "result"
   ]
  }
 ],
 "metadata": {
  "kernelspec": {
   "display_name": "Python 3 (ipykernel)",
   "language": "python",
   "name": "python3"
  },
  "language_info": {
   "codemirror_mode": {
    "name": "ipython",
    "version": 3
   },
   "file_extension": ".py",
   "mimetype": "text/x-python",
   "name": "python",
   "nbconvert_exporter": "python",
   "pygments_lexer": "ipython3",
   "version": "3.11.5"
  }
 },
 "nbformat": 4,
 "nbformat_minor": 5
}
