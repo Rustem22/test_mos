{
 "cells": [
  {
   "cell_type": "code",
   "execution_count": 1,
   "id": "e222a13e",
   "metadata": {},
   "outputs": [],
   "source": [
    "import pandas as pd\n",
    "\n",
    "df = pd.read_excel('/Users/rustem/Downloads/OTP_session_id.xlsx')"
   ]
  },
  {
   "cell_type": "code",
   "execution_count": 2,
   "id": "9543a1ca",
   "metadata": {},
   "outputs": [
    {
     "name": "stdout",
     "output_type": "stream",
     "text": [
      "Категория, по которой было введено наибольшее число кодов за все время:\n",
      "mobile-otp : 390\n"
     ]
    }
   ],
   "source": [
    "#Задание 1\n",
    "\n",
    "category_counts = df['category'].value_counts()\n",
    "print(\"Категория, по которой было введено наибольшее число кодов за все время:\")\n",
    "print(category_counts.index[0], \":\", category_counts.values[0])"
   ]
  },
  {
   "cell_type": "code",
   "execution_count": 4,
   "id": "fba6d7dd",
   "metadata": {
    "scrolled": false
   },
   "outputs": [
    {
     "name": "stdout",
     "output_type": "stream",
     "text": [
      "       client_id            session_id   datetime    category  indicator\n",
      "0     2397727872  b7fcc1f6-686b-41c005 2020-01-06   otp-login        2.0\n",
      "1     2397727873  b7fcc1f6-686b-41c006 2020-01-06  mobile-otp        1.0\n",
      "2     2397727876  b7fcc1f6-686b-41c009 2020-01-06   otp-login        2.0\n",
      "3     2397727877  b7fcc1f6-686b-41c010 2020-01-06  mobile-otp        1.0\n",
      "4     2397727880  b7fcc1f6-686b-41c013 2020-01-06   otp-login        2.0\n",
      "...          ...                   ...        ...         ...        ...\n",
      "1054  2397729313  b7fcc1f6-686b-41a448 2020-03-14  pass-login        NaN\n",
      "1055  2397729317  b7fcc1f6-686b-41a452 2020-03-14  pass-login        NaN\n",
      "1056  2397729321  b7fcc1f6-686b-41a456 2020-03-14  pass-login        NaN\n",
      "1057  2397729323  b7fcc1f6-686b-41a458 2020-03-14  pass-login        NaN\n",
      "1058  2397729324  b7fcc1f6-686b-41a459 2020-03-14  pass-login        NaN\n",
      "\n",
      "[1059 rows x 5 columns]\n"
     ]
    }
   ],
   "source": [
    "#Задание 2\n",
    "import numpy as np\n",
    "\n",
    "df['indicator'] = np.where(df['category'] == 'mobile-otp', 1,\n",
    "                           np.where(df['category'].str.contains('otp-login') & ~df['category'].str.contains('pass-login'), 2, np.nan))\n",
    "\n",
    "# фильтруем строки, где 'indicator' не равен NaN или 'category' содержит 'pass-login'\n",
    "result = pd.concat([df.dropna(subset=['indicator']), df[df['category'].str.contains('pass-login')]], ignore_index=True)\n",
    "\n",
    "print(result)"
   ]
  },
  {
   "cell_type": "markdown",
   "id": "d5f03e42",
   "metadata": {},
   "source": [
    "В этой задаче не совсем понятны условия, вернуть ли строки с pass-login или нет. Если их убрать из Датафрейма, то в результате будет 676 строк с категорями otp-login и mobile-otp\n"
   ]
  }
 ],
 "metadata": {
  "kernelspec": {
   "display_name": "Python 3 (ipykernel)",
   "language": "python",
   "name": "python3"
  },
  "language_info": {
   "codemirror_mode": {
    "name": "ipython",
    "version": 3
   },
   "file_extension": ".py",
   "mimetype": "text/x-python",
   "name": "python",
   "nbconvert_exporter": "python",
   "pygments_lexer": "ipython3",
   "version": "3.11.5"
  }
 },
 "nbformat": 4,
 "nbformat_minor": 5
}
